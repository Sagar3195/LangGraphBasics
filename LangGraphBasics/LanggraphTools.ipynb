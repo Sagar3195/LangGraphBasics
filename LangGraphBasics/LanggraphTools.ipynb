{
 "cells": [
  {
   "cell_type": "markdown",
   "id": "354ceaa1",
   "metadata": {},
   "source": [
    "#### LangGraph With Tools"
   ]
  },
  {
   "cell_type": "code",
   "execution_count": 1,
   "id": "ca9c6cc4",
   "metadata": {},
   "outputs": [
    {
     "name": "stdout",
     "output_type": "stream",
     "text": [
      "description='Query arxiv paper' api_wrapper=ArxivAPIWrapper(arxiv_search=<class 'arxiv.Search'>, arxiv_exceptions=(<class 'arxiv.ArxivError'>, <class 'arxiv.UnexpectedEmptyPageError'>, <class 'arxiv.HTTPError'>), top_k_results=3, ARXIV_MAX_QUERY_LENGTH=300, continue_on_failure=False, load_max_docs=100, load_all_available_meta=False, doc_content_chars_max=300)\n"
     ]
    }
   ],
   "source": [
    "##Tools \n",
    "from langchain_community.tools import ArxivQueryRun, WikipediaQueryRun \n",
    "from langchain_community.utilities import WikipediaAPIWrapper, ArxivAPIWrapper \n",
    "\n",
    "api_wrapper_arxiv = ArxivAPIWrapper(top_k_results= 3, doc_content_chars_max= 300)\n",
    "arxiv = ArxivQueryRun(api_wrapper= api_wrapper_arxiv, description = \"Query arxiv paper\")\n",
    "print(arxiv)"
   ]
  },
  {
   "cell_type": "code",
   "execution_count": 2,
   "id": "39f1a11d",
   "metadata": {},
   "outputs": [
    {
     "data": {
      "text/plain": [
       "\"Published: 2024-07-22\\nTitle: Attention Is All You Need But You Don't Need All Of It For Inference of Large Language Models\\nAuthors: Georgy Tyukin, Gbetondji J-S Dovonon, Jean Kaddour, Pasquale Minervini\\nSummary: The inference demand for LLMs has skyrocketed in recent months, and serving\\nmodels with \""
      ]
     },
     "execution_count": 2,
     "metadata": {},
     "output_type": "execute_result"
    }
   ],
   "source": [
    "arxiv.invoke(\"Attention is all you need\")"
   ]
  },
  {
   "cell_type": "code",
   "execution_count": 3,
   "id": "89928e51",
   "metadata": {},
   "outputs": [
    {
     "name": "stdout",
     "output_type": "stream",
     "text": [
      "api_wrapper=WikipediaAPIWrapper(wiki_client=<module 'wikipedia' from 'c:\\\\PythonCSV\\\\CSV_file\\\\LangGraph\\\\LangGraphBasics\\\\.venv\\\\Lib\\\\site-packages\\\\wikipedia\\\\__init__.py'>, top_k_results=3, lang='en', load_all_available_meta=False, doc_content_chars_max=300)\n"
     ]
    }
   ],
   "source": [
    "api_wrapper_wiki = WikipediaAPIWrapper(top_k_results=3, doc_content_chars_max= 300)\n",
    "wiki = WikipediaQueryRun(api_wrapper= api_wrapper_wiki)\n",
    "print(wiki)"
   ]
  },
  {
   "cell_type": "code",
   "execution_count": 4,
   "id": "0255acf2",
   "metadata": {},
   "outputs": [],
   "source": [
    "#Loading environment variable from .env file \n",
    "from dotenv import load_dotenv \n",
    "import os \n",
    "\n",
    "load_dotenv()\n",
    "\n",
    "os.environ[\"GROQ_API_KEY\"] = os.getenv(\"GROQ_API_KEY\")\n",
    "os.environ[\"TAVILY_API_KEY\"] = os.getenv(\"TAVILY_API_KEY\")"
   ]
  },
  {
   "cell_type": "code",
   "execution_count": 5,
   "id": "dea9b75e",
   "metadata": {},
   "outputs": [
    {
     "name": "stderr",
     "output_type": "stream",
     "text": [
      "C:\\Users\\Abhijeet\\AppData\\Local\\Temp\\ipykernel_17552\\1533557354.py:4: LangChainDeprecationWarning: The class `TavilySearchResults` was deprecated in LangChain 0.3.25 and will be removed in 1.0. An updated version of the class exists in the :class:`~langchain-tavily package and should be used instead. To use it run `pip install -U :class:`~langchain-tavily` and import as `from :class:`~langchain_tavily import TavilySearch``.\n",
      "  tavily = TavilySearchResults(max_results= 3)\n"
     ]
    }
   ],
   "source": [
    "##Tavily Search tool \n",
    "from langchain_community.tools.tavily_search import TavilySearchResults \n",
    "\n",
    "tavily = TavilySearchResults(max_results= 3)"
   ]
  },
  {
   "cell_type": "code",
   "execution_count": 6,
   "id": "adabfc49",
   "metadata": {},
   "outputs": [
    {
     "data": {
      "text/plain": [
       "[{'title': 'NSF, NVIDIA Partner in $152M Ai2-Led Project to Build Open AI Models for US Science',\n",
       "  'url': 'https://www.hpcwire.com/off-the-wire/nsf-nvidia-partner-in-152m-ai2-led-project-to-build-open-ai-models-for-us-science/',\n",
       "  'content': \"Aug. 14, 2025 — The U.S. National Science Foundation has announced a partnership with NVIDIA to develop a set of artificial intelligence models that will transform the ability of America's scientists to leverage AI, advancing scientific discovery and ensuring U.S. leadership in AI-powered research and innovation.\",\n",
       "  'score': 0.98573},\n",
       " {'title': 'AI News | Latest AI News, Analysis & Events',\n",
       "  'url': 'https://www.artificialintelligence-news.com/',\n",
       "  'content': 'NVIDIA expands Blackwell-powered servers with new AI and robotics capabilities. Applications. August 12, 2025. NVIDIA latest: Blackwell GPU and software updates.',\n",
       "  'score': 0.98531},\n",
       " {'title': 'The State of AI 2025',\n",
       "  'url': 'https://www.bvp.com/atlas/the-state-of-ai-2025',\n",
       "  'content': 'In State of AI, Bessemer shares the latest benchmarks, investment strategies, and top predictions changing how founders should build.',\n",
       "  'score': 0.97717}]"
      ]
     },
     "execution_count": 6,
     "metadata": {},
     "output_type": "execute_result"
    }
   ],
   "source": [
    "tavily.invoke(\"Provide me the recent AI news\")"
   ]
  },
  {
   "cell_type": "code",
   "execution_count": 7,
   "id": "2a65eb5f",
   "metadata": {},
   "outputs": [],
   "source": [
    "#Combine all tools  in the list \n",
    "tools = [arxiv, wiki, tavily]"
   ]
  },
  {
   "cell_type": "code",
   "execution_count": 8,
   "id": "f6bf0c47",
   "metadata": {},
   "outputs": [],
   "source": [
    "#Initialize the LLM model \n",
    "from langchain_groq import ChatGroq \n",
    "\n",
    "llm = ChatGroq(model = \"meta-llama/llama-4-maverick-17b-128e-instruct\")"
   ]
  },
  {
   "cell_type": "code",
   "execution_count": 9,
   "id": "6ad3cfd3",
   "metadata": {},
   "outputs": [
    {
     "data": {
      "text/plain": [
       "AIMessage(content='AGI stands for Artificial General Intelligence. It refers to a hypothetical AI system that possesses the ability to understand, learn, and apply its intelligence across a wide range of tasks, similar to human intelligence. Unlike narrow or specialized AI, which is designed to perform a specific task (like facial recognition, playing chess, or translating languages), AGI would be capable of performing any intellectual task that a human can.\\n\\nThe key characteristics of AGI include:\\n\\n1. **General-purpose intelligence**: AGI can apply its intelligence across various domains and tasks, not being limited to a specific area.\\n2. **Reasoning and problem-solving**: It can reason, solve problems, and make decisions based on its understanding of the situation, much like a human.\\n3. **Learning and adaptation**: AGI can learn from experience, adapt to new situations, and apply what it has learned to new tasks or environments.\\n4. **Understanding and interpreting complex data**: It can comprehend complex, dynamic data and situations, and adjust its actions accordingly.\\n\\nThe development of AGI represents a significant goal in the field of artificial intelligence research, as it promises to revolutionize numerous aspects of society, from healthcare and education to finance and transportation, by providing a machine that can think and act like a human being.\\n\\nHowever, the creation of AGI is still largely speculative, and significant technical challenges must be overcome before such a system can be developed. Some of the challenges include creating a system that can generalize knowledge across different contexts, understand the nuances of human language and behavior, and make ethical decisions.\\n\\nThere is ongoing debate among experts about when or if AGI will be achieved, with predictions ranging from a few decades to never. The ethical and societal implications of creating AGI are also subjects of considerable discussion, including concerns about job displacement, privacy, and the potential risks of creating a superintelligent being that might be beyond human control.', additional_kwargs={}, response_metadata={'token_usage': {'completion_tokens': 372, 'prompt_tokens': 14, 'total_tokens': 386, 'completion_time': 0.636626288, 'prompt_time': 0.000525652, 'queue_time': 0.062227535, 'total_time': 0.63715194}, 'model_name': 'meta-llama/llama-4-maverick-17b-128e-instruct', 'system_fingerprint': 'fp_c527aa4474', 'service_tier': 'on_demand', 'finish_reason': 'stop', 'logprobs': None}, id='run--1f950ba1-2982-4de2-b390-5de0d1bade56-0', usage_metadata={'input_tokens': 14, 'output_tokens': 372, 'total_tokens': 386})"
      ]
     },
     "execution_count": 9,
     "metadata": {},
     "output_type": "execute_result"
    }
   ],
   "source": [
    "llm.invoke(\"What is AGI?\")"
   ]
  },
  {
   "cell_type": "code",
   "execution_count": 11,
   "id": "d1db6f72",
   "metadata": {},
   "outputs": [],
   "source": [
    "#Combine tools with llm \n",
    "llm_with_tools = llm.bind_tools(tools= tools)"
   ]
  },
  {
   "cell_type": "code",
   "execution_count": 12,
   "id": "47e1a906",
   "metadata": {},
   "outputs": [
    {
     "name": "stdout",
     "output_type": "stream",
     "text": [
      "==================================\u001b[1m Ai Message \u001b[0m==================================\n",
      "Tool Calls:\n",
      "  arxiv (qz42qsqxv)\n",
      " Call ID: qz42qsqxv\n",
      "  Args:\n",
      "    query: 1706.03762\n"
     ]
    }
   ],
   "source": [
    "llm_with_tools.invoke(\"1706.03762\").pretty_print()"
   ]
  },
  {
   "cell_type": "code",
   "execution_count": 13,
   "id": "a6c81409",
   "metadata": {},
   "outputs": [
    {
     "name": "stdout",
     "output_type": "stream",
     "text": [
      "==================================\u001b[1m Ai Message \u001b[0m==================================\n",
      "Tool Calls:\n",
      "  arxiv (p62esqdt6)\n",
      " Call ID: p62esqdt6\n",
      "  Args:\n",
      "    query: quantum computing latest research\n"
     ]
    }
   ],
   "source": [
    "llm_with_tools.invoke('What is the latest research on quantum computing?').pretty_print()"
   ]
  },
  {
   "cell_type": "code",
   "execution_count": 14,
   "id": "49845d17",
   "metadata": {},
   "outputs": [
    {
     "name": "stdout",
     "output_type": "stream",
     "text": [
      "==================================\u001b[1m Ai Message \u001b[0m==================================\n",
      "Tool Calls:\n",
      "  tavily_search_results_json (cj8xfwm37)\n",
      " Call ID: cj8xfwm37\n",
      "  Args:\n",
      "    query: Agentic AI\n"
     ]
    }
   ],
   "source": [
    "llm_with_tools.invoke('What is the Agentic AI?').pretty_print()"
   ]
  },
  {
   "cell_type": "code",
   "execution_count": 15,
   "id": "7135f6df",
   "metadata": {},
   "outputs": [],
   "source": [
    "##Workflow \n",
    "#Define State Graph\n",
    "from typing_extensions import TypedDict , List\n",
    "from langchain_core.messages import AnyMessage  #Human message or AI message\n",
    "from typing import Annotated  #labeling \n",
    "from langgraph.graph.message import add_messages  #called reducers in langgraph"
   ]
  },
  {
   "cell_type": "code",
   "execution_count": 16,
   "id": "b3b75f82",
   "metadata": {},
   "outputs": [],
   "source": [
    "class State(TypedDict):\n",
    "    messages: Annotated[list[AnyMessage], add_messages] "
   ]
  },
  {
   "cell_type": "code",
   "execution_count": 17,
   "id": "56248bb1",
   "metadata": {},
   "outputs": [
    {
     "data": {
      "image/png": "[encoded data removed]",
      "text/plain": [
       "<IPython.core.display.Image object>"
      ]
     },
     "metadata": {},
     "output_type": "display_data"
    }
   ],
   "source": [
    "#Build Graph \n",
    "from langgraph.graph import StateGraph, START, END \n",
    "from langgraph.prebuilt import ToolNode \n",
    "from langgraph.prebuilt import tools_condition \n",
    "\n",
    "#Node definition \n",
    "def llm_calling_tool(state:State):\n",
    "    return {\"messagses\": [llm_with_tools.invoke(state[\"messages\"])]}\n",
    "\n",
    "graph = StateGraph(State)\n",
    "#Add nodes \n",
    "graph.add_node(\"llm_calling_tool\", llm_calling_tool)\n",
    "graph.add_node(\"tools\", ToolNode(tools))\n",
    "#Add edge \n",
    "graph.add_edge(START, \"llm_calling_tool\")\n",
    "graph.add_conditional_edges(\n",
    "    \"llm_calling_tool\",\n",
    "    tools_condition,\n",
    ")\n",
    "graph.add_edge(\"tools\", END)\n",
    "\n",
    "#Compile the graph \n",
    "graph_builder = graph.compile()\n",
    "\n",
    "#Visualize the graph \n",
    "from IPython.display import display , Image \n",
    "display(Image(graph_builder.get_graph().draw_mermaid_png()))"
   ]
  },
  {
   "cell_type": "code",
   "execution_count": 18,
   "id": "0cb0b37e",
   "metadata": {},
   "outputs": [
    {
     "name": "stdout",
     "output_type": "stream",
     "text": [
      "================================\u001b[1m Human Message \u001b[0m=================================\n",
      "\n",
      "What is the recent AI news?\n"
     ]
    }
   ],
   "source": [
    "response = graph_builder.invoke({\"messages\": \"What is the recent AI news?\"})\n",
    "for m in response[\"messages\"]:\n",
    "    m.pretty_print()"
   ]
  },
  {
   "cell_type": "code",
   "execution_count": 19,
   "id": "dae41880",
   "metadata": {},
   "outputs": [
    {
     "data": {
      "text/plain": [
       "{'messages': [HumanMessage(content='What is AGI?', additional_kwargs={}, response_metadata={}, id='3e958d29-0382-4e21-8af3-9dddf268ee56')]}"
      ]
     },
     "execution_count": 19,
     "metadata": {},
     "output_type": "execute_result"
    }
   ],
   "source": [
    "graph_builder.invoke({\"messages\": \"What is AGI?\"})"
   ]
  },
  {
   "cell_type": "code",
   "execution_count": null,
   "id": "d4243b3e",
   "metadata": {},
   "outputs": [],
   "source": []
  },
  {
   "cell_type": "code",
   "execution_count": null,
   "id": "b39ab6e8",
   "metadata": {},
   "outputs": [],
   "source": []
  },
  {
   "cell_type": "code",
   "execution_count": null,
   "id": "ce744dfa",
   "metadata": {},
   "outputs": [],
   "source": []
  },
  {
   "cell_type": "code",
   "execution_count": null,
   "id": "5f9ce77a",
   "metadata": {},
   "outputs": [],
   "source": []
  },
  {
   "cell_type": "code",
   "execution_count": null,
   "id": "0036ae5e",
   "metadata": {},
   "outputs": [],
   "source": []
  },
  {
   "cell_type": "code",
   "execution_count": null,
   "id": "71d69173",
   "metadata": {},
   "outputs": [],
   "source": []
  }
 ],
 "metadata": {
  "kernelspec": {
   "display_name": "LangGraphBasics",
   "language": "python",
   "name": "python3"
  },
  "language_info": {
   "codemirror_mode": {
    "name": "ipython",
    "version": 3
   },
   "file_extension": ".py",
   "mimetype": "text/x-python",
   "name": "python",
   "nbconvert_exporter": "python",
   "pygments_lexer": "ipython3",
   "version": "3.13.5"
  }
 },
 "nbformat": 4,
 "nbformat_minor": 5
}
