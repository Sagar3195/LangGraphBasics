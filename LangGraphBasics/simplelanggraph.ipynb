{
 "cells": [
  {
   "cell_type": "markdown",
   "id": "d3d64b68",
   "metadata": {},
   "source": [
    "#### Build Simple Workflow using LangGraph\n",
    "\n",
    "#### State \n",
    " - First, define the State of Graph \n",
    " The State schema serves as the input schema for all nodes and edges in the graph. \n",
    " Let's use the TypedDict class from python typing module as our schema, which provides type hints for the keys."
   ]
  },
  {
   "cell_type": "code",
   "execution_count": 5,
   "id": "18a93dea",
   "metadata": {},
   "outputs": [],
   "source": [
    "from typing_extensions import TypedDict \n",
    "\n",
    "class State(TypedDict):\n",
    "    graph_info: str \n",
    "    "
   ]
  },
  {
   "cell_type": "code",
   "execution_count": 6,
   "id": "90e1e25f",
   "metadata": {},
   "outputs": [],
   "source": [
    "def start_play(state:State):\n",
    "    print(\"Start Play has been called\")\n",
    "    return {\"graph_info\": state[\"graph_info\"] + \"I am planning to play\"} \n",
    "\n",
    "def cricket(state:State):\n",
    "    print(\"Cricket node has been called\")\n",
    "    return {\"graph_info\": state[\"graph_info\"] + \"Cricket\"}\n",
    "\n",
    "def badmintton(state:State):\n",
    "    print(\"Badmintton node has been called\")\n",
    "    return {\"graph_info\": state[\"graph_info\"] + \"Badmintton\"}\n"
   ]
  },
  {
   "cell_type": "code",
   "execution_count": 7,
   "id": "ed0e43a1",
   "metadata": {},
   "outputs": [],
   "source": [
    "import random \n",
    "from typing import Literal \n",
    "\n",
    "def random_play(state:State) -> Literal[\"cricket\", \"badmintton\"]:\n",
    "    if random.random() > 0.5:\n",
    "        return \"cricket\"\n",
    "    else:\n",
    "        return \"badmintton\"\n",
    "    "
   ]
  },
  {
   "cell_type": "code",
   "execution_count": 8,
   "id": "51b651d3",
   "metadata": {},
   "outputs": [],
   "source": [
    "from langgraph.graph import StateGraph, START, END \n",
    "from langgraph.prebuilt import tools_condition , ToolNode \n",
    "\n",
    "##Builod Graph \n",
    "graph = StateGraph(State)\n",
    "\n",
    "#Add nodes \n",
    "graph.add_node(\"start_play\", start_play)\n",
    "graph.add_node(\"cricket\", cricket)\n",
    "graph.add_node(\"badmintton\", badmintton)\n",
    "\n",
    "## Schedule the floow of graph \n",
    "graph.add_edge(START, \"start_play\")\n",
    "graph.add_conditional_edges(\"start_play\", random_play)\n",
    "graph.add_edge(\"cricket\", END)\n",
    "graph.add_edge(\"badmintton\", END)\n",
    "\n",
    "##Compile the graph \n",
    "graph_builder = graph.compile()"
   ]
  },
  {
   "cell_type": "code",
   "execution_count": 9,
   "id": "4bd4ff9a",
   "metadata": {},
   "outputs": [
    {
     "data": {
      "image/png": "[encoded data removed]",
      "text/plain": [
       "<IPython.core.display.Image object>"
      ]
     },
     "metadata": {},
     "output_type": "display_data"
    }
   ],
   "source": [
    "from IPython.display import display, Image \n",
    "display(Image(graph_builder.get_graph().draw_mermaid_png()))"
   ]
  },
  {
   "cell_type": "code",
   "execution_count": 16,
   "id": "3ea7c3a9",
   "metadata": {},
   "outputs": [
    {
     "name": "stdout",
     "output_type": "stream",
     "text": [
      "Start Play has been called\n",
      "Cricket node has been called\n"
     ]
    },
    {
     "data": {
      "text/plain": [
       "{'graph_info': 'My name is Krish  I am planning to playCricket'}"
      ]
     },
     "execution_count": 16,
     "metadata": {},
     "output_type": "execute_result"
    }
   ],
   "source": [
    "graph_builder.invoke({\"graph_info\": \"My name is Krish  \"})"
   ]
  },
  {
   "cell_type": "code",
   "execution_count": null,
   "id": "ea0ab9c0",
   "metadata": {},
   "outputs": [],
   "source": []
  },
  {
   "cell_type": "code",
   "execution_count": null,
   "metadata": {},
   "outputs": [],
   "source": []
  },
  {
   "cell_type": "code",
   "execution_count": null,
   "id": "6572b270",
   "metadata": {},
   "outputs": [],
   "source": []
  },
  {
   "cell_type": "code",
   "execution_count": null,
   "id": "ae913216",
   "metadata": {},
   "outputs": [],
   "source": []
  },
  {
   "cell_type": "code",
   "execution_count": null,
   "id": "eb839e24",
   "metadata": {},
   "outputs": [],
   "source": []
  },
  {
   "cell_type": "code",
   "execution_count": null,
   "id": "cc5687cb",
   "metadata": {},
   "outputs": [],
   "source": []
  },
  {
   "cell_type": "code",
   "execution_count": null,
   "id": "a0ebdc21",
   "metadata": {},
   "outputs": [],
   "source": []
  }
 ],
 "metadata": {
  "kernelspec": {
   "display_name": "LangGraphBasics",
   "language": "python",
   "name": "python3"
  },
  "language_info": {
   "codemirror_mode": {
    "name": "ipython",
    "version": 3
   },
   "file_extension": ".py",
   "mimetype": "text/x-python",
   "name": "python",
   "nbconvert_exporter": "python",
   "pygments_lexer": "ipython3",
   "version": "3.13.5"
  }
 },
 "nbformat": 4,
 "nbformat_minor": 5
}
